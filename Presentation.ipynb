{
  "nbformat": 4,
  "nbformat_minor": 0,
  "metadata": {
    "colab": {
      "name": "Presentation.ipynb",
      "provenance": [],
      "collapsed_sections": []
    },
    "kernelspec": {
      "name": "python3",
      "display_name": "Python 3"
    }
  },
  "cells": [
    {
      "cell_type": "markdown",
      "metadata": {
        "id": "atftTlBupPbI",
        "colab_type": "text"
      },
      "source": [
        "# **Research Question:**\n",
        "Why is the validity of Fake News difficult to determine?"
      ]
    },
    {
      "cell_type": "markdown",
      "metadata": {
        "id": "7i3fRiFRpZPy",
        "colab_type": "text"
      },
      "source": [
        "# **Step 1: Getting the data**\n",
        "\n",
        "*   Real news articles obtained from The Guardian\n",
        "(https://content.guardianapis.com)\n",
        "*   Fake news articles obtained from Reddit using web scraping (https://www.reddit.com/r/TheOnion/)\n",
        "\n",
        "\n",
        "\n"
      ]
    },
    {
      "cell_type": "code",
      "metadata": {
        "id": "7hCv0neDvu0u",
        "colab_type": "code",
        "outputId": "9511ae60-ff37-4e53-a6b3-343a05b82ed7",
        "colab": {
          "base_uri": "https://localhost:8080/",
          "height": 204
        }
      },
      "source": [
        "import pandas as pd\n",
        "from IPython.display import Image\n",
        "\n",
        "pd.read_csv('https://raw.githubusercontent.com/guneetskohli/DATA301/master/news_with_len.csv').head()"
      ],
      "execution_count": 0,
      "outputs": [
        {
          "output_type": "execute_result",
          "data": {
            "text/html": [
              "<div>\n",
              "<style scoped>\n",
              "    .dataframe tbody tr th:only-of-type {\n",
              "        vertical-align: middle;\n",
              "    }\n",
              "\n",
              "    .dataframe tbody tr th {\n",
              "        vertical-align: top;\n",
              "    }\n",
              "\n",
              "    .dataframe thead th {\n",
              "        text-align: right;\n",
              "    }\n",
              "</style>\n",
              "<table border=\"1\" class=\"dataframe\">\n",
              "  <thead>\n",
              "    <tr style=\"text-align: right;\">\n",
              "      <th></th>\n",
              "      <th>Unnamed: 0</th>\n",
              "      <th>title</th>\n",
              "      <th>url</th>\n",
              "      <th>content</th>\n",
              "      <th>fake</th>\n",
              "      <th>title_len</th>\n",
              "      <th>content_len</th>\n",
              "    </tr>\n",
              "  </thead>\n",
              "  <tbody>\n",
              "    <tr>\n",
              "      <th>0</th>\n",
              "      <td>0</td>\n",
              "      <td>Biden Wondering Where All This Support Was Whe...</td>\n",
              "      <td>https://politics.theonion.com/biden-wondering-...</td>\n",
              "      <td>WILMINGTON, DE—As the moderate wing of the Dem...</td>\n",
              "      <td>1</td>\n",
              "      <td>13</td>\n",
              "      <td>255</td>\n",
              "    </tr>\n",
              "    <tr>\n",
              "      <th>1</th>\n",
              "      <td>1</td>\n",
              "      <td>CDC Recommends Also Wearing Face Mask On Back ...</td>\n",
              "      <td>https://www.theonion.com/cdc-recommends-also-w...</td>\n",
              "      <td>ATLANTA—As documented cases of the disease inc...</td>\n",
              "      <td>1</td>\n",
              "      <td>16</td>\n",
              "      <td>288</td>\n",
              "    </tr>\n",
              "    <tr>\n",
              "      <th>2</th>\n",
              "      <td>2</td>\n",
              "      <td>Orderly, dour, cowed: how my beloved Italy is ...</td>\n",
              "      <td>https://www.theguardian.com/world/2020/mar/15/...</td>\n",
              "      <td>Since the whole of Italy was put in quarantine...</td>\n",
              "      <td>0</td>\n",
              "      <td>11</td>\n",
              "      <td>2222</td>\n",
              "    </tr>\n",
              "    <tr>\n",
              "      <th>3</th>\n",
              "      <td>3</td>\n",
              "      <td>EPA Thugs Violently Beat Endangered Toad Who H...</td>\n",
              "      <td>https://www.theonion.com/epa-thugs-violently-b...</td>\n",
              "      <td>BASTROP, TX—Bursting into the amphibian’s nati...</td>\n",
              "      <td>1</td>\n",
              "      <td>11</td>\n",
              "      <td>203</td>\n",
              "    </tr>\n",
              "    <tr>\n",
              "      <th>4</th>\n",
              "      <td>4</td>\n",
              "      <td>Coronavirus symptoms: what are they and should...</td>\n",
              "      <td>https://www.theguardian.com/world/2020/mar/15/...</td>\n",
              "      <td>What is Covid-19 – the illness that started in...</td>\n",
              "      <td>0</td>\n",
              "      <td>11</td>\n",
              "      <td>545</td>\n",
              "    </tr>\n",
              "  </tbody>\n",
              "</table>\n",
              "</div>"
            ],
            "text/plain": [
              "   Unnamed: 0  ... content_len\n",
              "0           0  ...         255\n",
              "1           1  ...         288\n",
              "2           2  ...        2222\n",
              "3           3  ...         203\n",
              "4           4  ...         545\n",
              "\n",
              "[5 rows x 7 columns]"
            ]
          },
          "metadata": {
            "tags": []
          },
          "execution_count": 14
        }
      ]
    },
    {
      "cell_type": "markdown",
      "metadata": {
        "id": "LihWBCLnlTQs",
        "colab_type": "text"
      },
      "source": [
        "# **Step 2: Cleaning the data**\n",
        "\n",
        "### Real News Data (The Guardian)\n",
        "\n",
        "* Initially planned to web scrap real news from Reddit\n",
        "* Difficult because there are many different news websites\n",
        "* Some APIs only had title, URL, and maybe first couple of body's sentences\n",
        "* The Guardian API had content, but limited us to 200 articles\n",
        "* Only cleaning needed to be done was checking if the article had any content\n",
        "\n",
        "### Fake News Data (Reddit)\n",
        "\n",
        "* Web scraped articles from /r/TheOnion (Top of All Time)\n",
        "* Not all articles were directly from The Onion (clickhole) - excluded to make scraping content easier\n",
        "* Had to check if articles had content\n",
        "* Some articles included the city and state that the news was relevant to, followed by a hyphen\n",
        "* To make sure our machine learning wouldn't be affected by this (since it was only fake articles that had this) it had to be removed\n"
      ]
    },
    {
      "cell_type": "code",
      "metadata": {
        "id": "jwzao3aaW6fi",
        "colab_type": "code",
        "outputId": "04a3e4df-c8e8-41c1-9557-cd38d975a273",
        "colab": {
          "base_uri": "https://localhost:8080/",
          "height": 204
        }
      },
      "source": [
        "pd.read_csv('https://raw.githubusercontent.com/guneetskohli/DATA301/master/filtered_news.csv').head()"
      ],
      "execution_count": 0,
      "outputs": [
        {
          "output_type": "execute_result",
          "data": {
            "text/html": [
              "<div>\n",
              "<style scoped>\n",
              "    .dataframe tbody tr th:only-of-type {\n",
              "        vertical-align: middle;\n",
              "    }\n",
              "\n",
              "    .dataframe tbody tr th {\n",
              "        vertical-align: top;\n",
              "    }\n",
              "\n",
              "    .dataframe thead th {\n",
              "        text-align: right;\n",
              "    }\n",
              "</style>\n",
              "<table border=\"1\" class=\"dataframe\">\n",
              "  <thead>\n",
              "    <tr style=\"text-align: right;\">\n",
              "      <th></th>\n",
              "      <th>Unnamed: 0</th>\n",
              "      <th>title</th>\n",
              "      <th>url</th>\n",
              "      <th>content</th>\n",
              "      <th>fake</th>\n",
              "      <th>title_len</th>\n",
              "      <th>content_len</th>\n",
              "    </tr>\n",
              "  </thead>\n",
              "  <tbody>\n",
              "    <tr>\n",
              "      <th>0</th>\n",
              "      <td>0</td>\n",
              "      <td>Sportless TV goes all nostalgic on a truly sur...</td>\n",
              "      <td>https://www.theguardian.com/sport/2020/mar/15/...</td>\n",
              "      <td>So, the show doesn’t have to go on after all. ...</td>\n",
              "      <td>0</td>\n",
              "      <td>13</td>\n",
              "      <td>862</td>\n",
              "    </tr>\n",
              "    <tr>\n",
              "      <th>1</th>\n",
              "      <td>1</td>\n",
              "      <td>Nation Perplexed By 16-Year-Old Who Doesn’t Wa...</td>\n",
              "      <td>https://www.theonion.com/nation-perplexed-by-1...</td>\n",
              "      <td>Following her U.N. address about the existenti...</td>\n",
              "      <td>1</td>\n",
              "      <td>10</td>\n",
              "      <td>197</td>\n",
              "    </tr>\n",
              "    <tr>\n",
              "      <th>2</th>\n",
              "      <td>2</td>\n",
              "      <td>Inconsolable Jeff Sessions Tries To Commit Sui...</td>\n",
              "      <td>https://politics.theonion.com/inconsolable-jef...</td>\n",
              "      <td>Following months of bruising criticism from De...</td>\n",
              "      <td>1</td>\n",
              "      <td>10</td>\n",
              "      <td>129</td>\n",
              "    </tr>\n",
              "    <tr>\n",
              "      <th>3</th>\n",
              "      <td>3</td>\n",
              "      <td>Israel's opposition head Benny Gantz wins supp...</td>\n",
              "      <td>https://www.theguardian.com/world/2020/mar/15/...</td>\n",
              "      <td>Israeli political parties have backed the oppo...</td>\n",
              "      <td>0</td>\n",
              "      <td>10</td>\n",
              "      <td>1053</td>\n",
              "    </tr>\n",
              "    <tr>\n",
              "      <th>4</th>\n",
              "      <td>4</td>\n",
              "      <td>‘No Way To Prevent This,’ Says Only Nation Whe...</td>\n",
              "      <td>https://www.theonion.com/no-way-to-prevent-thi...</td>\n",
              "      <td>In the days following a violent rampage in sou...</td>\n",
              "      <td>1</td>\n",
              "      <td>12</td>\n",
              "      <td>200</td>\n",
              "    </tr>\n",
              "  </tbody>\n",
              "</table>\n",
              "</div>"
            ],
            "text/plain": [
              "   Unnamed: 0  ... content_len\n",
              "0           0  ...         862\n",
              "1           1  ...         197\n",
              "2           2  ...         129\n",
              "3           3  ...        1053\n",
              "4           4  ...         200\n",
              "\n",
              "[5 rows x 7 columns]"
            ]
          },
          "metadata": {
            "tags": []
          },
          "execution_count": 13
        }
      ]
    },
    {
      "cell_type": "markdown",
      "metadata": {
        "id": "34uQcRObla2h",
        "colab_type": "text"
      },
      "source": [
        "# **Step 3: Exploring the data**\n"
      ]
    },
    {
      "cell_type": "code",
      "metadata": {
        "id": "iWqguEbypyee",
        "colab_type": "code",
        "outputId": "558eede3-42ce-4c4f-ceb4-321ec650db9a",
        "colab": {
          "base_uri": "https://localhost:8080/",
          "height": 305
        }
      },
      "source": [
        "Image(\"https://raw.githubusercontent.com/guneetskohli/DATA301/master/title.png\", unconfined=True)"
      ],
      "execution_count": 0,
      "outputs": [
        {
          "output_type": "execute_result",
          "data": {
            "image/png": "[encoded data removed]",
            "text/plain": [
              "<IPython.core.display.Image object>"
            ]
          },
          "metadata": {
            "tags": [],
            "image/png": {
              "unconfined": true
            }
          },
          "execution_count": 15
        }
      ]
    },
    {
      "cell_type": "markdown",
      "metadata": {
        "id": "ALOUpV8duhdq",
        "colab_type": "text"
      },
      "source": [
        "If we look at the length of titles for real and fake news, they seem to have similar average length of titles. Thus we predict that it would be difficult for us to predict from the title if news is fake or not. "
      ]
    },
    {
      "cell_type": "code",
      "metadata": {
        "id": "yMbvVqvHuYJ0",
        "colab_type": "code",
        "outputId": "2fcb3847-88dc-4b38-ae9b-d8ce706d95ff",
        "colab": {
          "base_uri": "https://localhost:8080/",
          "height": 305
        }
      },
      "source": [
        "Image(\"https://raw.githubusercontent.com/guneetskohli/DATA301/master/content.png\", unconfined=True)"
      ],
      "execution_count": 0,
      "outputs": [
        {
          "output_type": "execute_result",
          "data": {
            "image/png": "[encoded data removed]",
            "text/plain": [
              "<IPython.core.display.Image object>"
            ]
          },
          "metadata": {
            "tags": [],
            "image/png": {
              "unconfined": true
            }
          },
          "execution_count": 16
        }
      ]
    },
    {
      "cell_type": "markdown",
      "metadata": {
        "id": "vM__0lVsvdJT",
        "colab_type": "text"
      },
      "source": [
        "If we look at the length of content for real and fake news, it seems that real news articles are usually longer that fake news articles. Thus we think that content will be more useful in determining if an article is real or not. "
      ]
    },
    {
      "cell_type": "markdown",
      "metadata": {
        "id": "bNMQFDG76BIg",
        "colab_type": "text"
      },
      "source": [
        "# **Step 4: Machine Learning**\n",
        "\n",
        "# Determining Classification Test Metrics for Different Models\n",
        "\n",
        "* K-Neighbors Classifier\n",
        "* Passive Aggressive Classifier\n",
        "* Random Forest Classifier\n",
        "* Linear SVC Classifier\n",
        "* Logistic Regression Classifier"
      ]
    },
    {
      "cell_type": "markdown",
      "metadata": {
        "id": "-XOeYErCBxQ2",
        "colab_type": "text"
      },
      "source": [
        "**Results of Various models**"
      ]
    },
    {
      "cell_type": "code",
      "metadata": {
        "id": "vPCZRhPRFCRZ",
        "colab_type": "code",
        "outputId": "f129bdf1-77a8-420f-e80c-50e0fc9d6547",
        "colab": {
          "base_uri": "https://localhost:8080/",
          "height": 976
        }
      },
      "source": [
        "pd.read_csv('https://raw.githubusercontent.com/guneetskohli/DATA301/master/df_results_final.csv')"
      ],
      "execution_count": 19,
      "outputs": [
        {
          "output_type": "execute_result",
          "data": {
            "text/html": [
              "<div>\n",
              "<style scoped>\n",
              "    .dataframe tbody tr th:only-of-type {\n",
              "        vertical-align: middle;\n",
              "    }\n",
              "\n",
              "    .dataframe tbody tr th {\n",
              "        vertical-align: top;\n",
              "    }\n",
              "\n",
              "    .dataframe thead th {\n",
              "        text-align: right;\n",
              "    }\n",
              "</style>\n",
              "<table border=\"1\" class=\"dataframe\">\n",
              "  <thead>\n",
              "    <tr style=\"text-align: right;\">\n",
              "      <th></th>\n",
              "      <th>Unnamed: 0</th>\n",
              "      <th>Model</th>\n",
              "      <th>Features</th>\n",
              "      <th>Accuracy</th>\n",
              "      <th>Precision (Real)</th>\n",
              "      <th>Precision (Fake)</th>\n",
              "      <th>Recall (Real)</th>\n",
              "      <th>Recall (Fake)</th>\n",
              "      <th>F1 (Real)</th>\n",
              "      <th>F1 (Fake)</th>\n",
              "    </tr>\n",
              "  </thead>\n",
              "  <tbody>\n",
              "    <tr>\n",
              "      <th>0</th>\n",
              "      <td>0</td>\n",
              "      <td>KNeighbors</td>\n",
              "      <td>['title', 'title_len']</td>\n",
              "      <td>0.569144</td>\n",
              "      <td>0.554409</td>\n",
              "      <td>0.600000</td>\n",
              "      <td>1.000000</td>\n",
              "      <td>0.076471</td>\n",
              "      <td>0.712937</td>\n",
              "      <td>0.133275</td>\n",
              "    </tr>\n",
              "    <tr>\n",
              "      <th>1</th>\n",
              "      <td>1</td>\n",
              "      <td>KNeighbors</td>\n",
              "      <td>['content', 'content_len']</td>\n",
              "      <td>0.629505</td>\n",
              "      <td>1.000000</td>\n",
              "      <td>0.558746</td>\n",
              "      <td>0.305526</td>\n",
              "      <td>1.000000</td>\n",
              "      <td>0.460096</td>\n",
              "      <td>0.716460</td>\n",
              "    </tr>\n",
              "    <tr>\n",
              "      <th>2</th>\n",
              "      <td>2</td>\n",
              "      <td>KNeighbors</td>\n",
              "      <td>['title', 'title_len', 'content', 'content_len']</td>\n",
              "      <td>0.645871</td>\n",
              "      <td>1.000000</td>\n",
              "      <td>0.571415</td>\n",
              "      <td>0.336053</td>\n",
              "      <td>1.000000</td>\n",
              "      <td>0.490978</td>\n",
              "      <td>0.726348</td>\n",
              "    </tr>\n",
              "    <tr>\n",
              "      <th>3</th>\n",
              "      <td>3</td>\n",
              "      <td>PassiveAggressive</td>\n",
              "      <td>['title', 'title_len']</td>\n",
              "      <td>0.861411</td>\n",
              "      <td>0.865832</td>\n",
              "      <td>0.853553</td>\n",
              "      <td>0.882368</td>\n",
              "      <td>0.824510</td>\n",
              "      <td>0.868589</td>\n",
              "      <td>0.843934</td>\n",
              "    </tr>\n",
              "    <tr>\n",
              "      <th>4</th>\n",
              "      <td>4</td>\n",
              "      <td>PassiveAggressive</td>\n",
              "      <td>['content', 'content_len']</td>\n",
              "      <td>0.945270</td>\n",
              "      <td>0.977709</td>\n",
              "      <td>0.907826</td>\n",
              "      <td>0.912368</td>\n",
              "      <td>0.965033</td>\n",
              "      <td>0.938496</td>\n",
              "      <td>0.943619</td>\n",
              "    </tr>\n",
              "    <tr>\n",
              "      <th>5</th>\n",
              "      <td>5</td>\n",
              "      <td>PassiveAggressive</td>\n",
              "      <td>['title', 'title_len', 'content', 'content_len']</td>\n",
              "      <td>0.967117</td>\n",
              "      <td>0.989737</td>\n",
              "      <td>0.951954</td>\n",
              "      <td>0.943421</td>\n",
              "      <td>0.988235</td>\n",
              "      <td>0.965532</td>\n",
              "      <td>0.966177</td>\n",
              "    </tr>\n",
              "    <tr>\n",
              "      <th>6</th>\n",
              "      <td>6</td>\n",
              "      <td>RandomForest</td>\n",
              "      <td>['title', 'title_len']</td>\n",
              "      <td>0.790390</td>\n",
              "      <td>0.754223</td>\n",
              "      <td>0.892892</td>\n",
              "      <td>0.928684</td>\n",
              "      <td>0.620261</td>\n",
              "      <td>0.813872</td>\n",
              "      <td>0.728621</td>\n",
              "    </tr>\n",
              "    <tr>\n",
              "      <th>7</th>\n",
              "      <td>7</td>\n",
              "      <td>RandomForest</td>\n",
              "      <td>['content', 'content_len']</td>\n",
              "      <td>0.945270</td>\n",
              "      <td>0.995238</td>\n",
              "      <td>0.895506</td>\n",
              "      <td>0.891842</td>\n",
              "      <td>0.988235</td>\n",
              "      <td>0.927040</td>\n",
              "      <td>0.943136</td>\n",
              "    </tr>\n",
              "    <tr>\n",
              "      <th>8</th>\n",
              "      <td>8</td>\n",
              "      <td>RandomForest</td>\n",
              "      <td>['title', 'title_len', 'content', 'content_len']</td>\n",
              "      <td>0.939715</td>\n",
              "      <td>0.989683</td>\n",
              "      <td>0.899553</td>\n",
              "      <td>0.896842</td>\n",
              "      <td>1.000000</td>\n",
              "      <td>0.934441</td>\n",
              "      <td>0.945493</td>\n",
              "    </tr>\n",
              "    <tr>\n",
              "      <th>9</th>\n",
              "      <td>9</td>\n",
              "      <td>LinearSVC</td>\n",
              "      <td>['title', 'title_len']</td>\n",
              "      <td>0.853303</td>\n",
              "      <td>0.849287</td>\n",
              "      <td>0.866216</td>\n",
              "      <td>0.887632</td>\n",
              "      <td>0.813072</td>\n",
              "      <td>0.866479</td>\n",
              "      <td>0.836207</td>\n",
              "    </tr>\n",
              "    <tr>\n",
              "      <th>10</th>\n",
              "      <td>10</td>\n",
              "      <td>LinearSVC</td>\n",
              "      <td>['content', 'content_len']</td>\n",
              "      <td>0.893393</td>\n",
              "      <td>1.000000</td>\n",
              "      <td>0.818895</td>\n",
              "      <td>0.799737</td>\n",
              "      <td>1.000000</td>\n",
              "      <td>0.885878</td>\n",
              "      <td>0.899226</td>\n",
              "    </tr>\n",
              "    <tr>\n",
              "      <th>11</th>\n",
              "      <td>11</td>\n",
              "      <td>LinearSVC</td>\n",
              "      <td>['title', 'title_len', 'content', 'content_len']</td>\n",
              "      <td>0.929054</td>\n",
              "      <td>1.000000</td>\n",
              "      <td>0.870326</td>\n",
              "      <td>0.861842</td>\n",
              "      <td>1.000000</td>\n",
              "      <td>0.924906</td>\n",
              "      <td>0.930083</td>\n",
              "    </tr>\n",
              "    <tr>\n",
              "      <th>12</th>\n",
              "      <td>12</td>\n",
              "      <td>LogisticRegression</td>\n",
              "      <td>['title', 'title_len']</td>\n",
              "      <td>0.836712</td>\n",
              "      <td>0.814080</td>\n",
              "      <td>0.881357</td>\n",
              "      <td>0.908158</td>\n",
              "      <td>0.754248</td>\n",
              "      <td>0.856803</td>\n",
              "      <td>0.808370</td>\n",
              "    </tr>\n",
              "    <tr>\n",
              "      <th>13</th>\n",
              "      <td>13</td>\n",
              "      <td>LogisticRegression</td>\n",
              "      <td>['content', 'content_len']</td>\n",
              "      <td>0.953453</td>\n",
              "      <td>0.995238</td>\n",
              "      <td>0.918442</td>\n",
              "      <td>0.917368</td>\n",
              "      <td>0.994118</td>\n",
              "      <td>0.953076</td>\n",
              "      <td>0.953489</td>\n",
              "    </tr>\n",
              "    <tr>\n",
              "      <th>14</th>\n",
              "      <td>14</td>\n",
              "      <td>LogisticRegression</td>\n",
              "      <td>['title', 'title_len', 'content', 'content_len']</td>\n",
              "      <td>0.956156</td>\n",
              "      <td>1.000000</td>\n",
              "      <td>0.918442</td>\n",
              "      <td>0.917368</td>\n",
              "      <td>1.000000</td>\n",
              "      <td>0.955515</td>\n",
              "      <td>0.956520</td>\n",
              "    </tr>\n",
              "  </tbody>\n",
              "</table>\n",
              "</div>"
            ],
            "text/plain": [
              "    Unnamed: 0               Model  ... F1 (Real)  F1 (Fake)\n",
              "0            0          KNeighbors  ...  0.712937   0.133275\n",
              "1            1          KNeighbors  ...  0.460096   0.716460\n",
              "2            2          KNeighbors  ...  0.490978   0.726348\n",
              "3            3   PassiveAggressive  ...  0.868589   0.843934\n",
              "4            4   PassiveAggressive  ...  0.938496   0.943619\n",
              "5            5   PassiveAggressive  ...  0.965532   0.966177\n",
              "6            6        RandomForest  ...  0.813872   0.728621\n",
              "7            7        RandomForest  ...  0.927040   0.943136\n",
              "8            8        RandomForest  ...  0.934441   0.945493\n",
              "9            9           LinearSVC  ...  0.866479   0.836207\n",
              "10          10           LinearSVC  ...  0.885878   0.899226\n",
              "11          11           LinearSVC  ...  0.924906   0.930083\n",
              "12          12  LogisticRegression  ...  0.856803   0.808370\n",
              "13          13  LogisticRegression  ...  0.953076   0.953489\n",
              "14          14  LogisticRegression  ...  0.955515   0.956520\n",
              "\n",
              "[15 rows x 10 columns]"
            ]
          },
          "metadata": {
            "tags": []
          },
          "execution_count": 19
        }
      ]
    },
    {
      "cell_type": "markdown",
      "metadata": {
        "id": "LJygTEumJRdI",
        "colab_type": "text"
      },
      "source": [
        "### From these results, we can determine the optimal set of features to train our models on."
      ]
    },
    {
      "cell_type": "code",
      "metadata": {
        "id": "bf6_4iq7rrMi",
        "colab_type": "code",
        "outputId": "a3d533aa-fa0a-43aa-f87c-3d3d41d3039f",
        "colab": {
          "base_uri": "https://localhost:8080/",
          "height": 638
        }
      },
      "source": [
        "Image(\"https://raw.githubusercontent.com/guneetskohli/DATA301/master/screen4.png\", unconfined=True)"
      ],
      "execution_count": 20,
      "outputs": [
        {
          "output_type": "execute_result",
          "data": {
            "image/png": "[encoded data removed]",
            "text/plain": [
              "<IPython.core.display.Image object>"
            ]
          },
          "metadata": {
            "tags": [],
            "image/png": {
              "unconfined": true
            }
          },
          "execution_count": 20
        }
      ]
    },
    {
      "cell_type": "markdown",
      "metadata": {
        "id": "e4m17CChK32M",
        "colab_type": "text"
      },
      "source": [
        "### Next, we needed to tune the hyperparameters of each model to determine which model would be best used for fake news detection. We evaluated the hyperparameters on the average F1 score because accuracy would not have been a good test metric to evaluate them on due to the idea of false positives and false negatives. "
      ]
    },
    {
      "cell_type": "code",
      "metadata": {
        "id": "jV4y_b4_XbB3",
        "colab_type": "code",
        "outputId": "dd2baf0f-7037-44b1-910b-d75b03c98547",
        "colab": {
          "base_uri": "https://localhost:8080/",
          "height": 305
        }
      },
      "source": [
        "Image(\"https://raw.githubusercontent.com/guneetskohli/DATA301/master/KTuning.png\", unconfined=True)"
      ],
      "execution_count": 0,
      "outputs": [
        {
          "output_type": "execute_result",
          "data": {
            "image/png": "[encoded data removed]",
            "text/plain": [
              "<IPython.core.display.Image object>"
            ]
          },
          "metadata": {
            "tags": [],
            "image/png": {
              "unconfined": true
            }
          },
          "execution_count": 3
        }
      ]
    },
    {
      "cell_type": "code",
      "metadata": {
        "id": "SJi6Hf8pXoX7",
        "colab_type": "code",
        "outputId": "9cfd0874-8103-49db-c027-0c193d3d3fd0",
        "colab": {
          "base_uri": "https://localhost:8080/",
          "height": 305
        }
      },
      "source": [
        "Image(\"https://raw.githubusercontent.com/guneetskohli/DATA301/master/RFTuning.png\", unconfined=True)"
      ],
      "execution_count": 0,
      "outputs": [
        {
          "output_type": "execute_result",
          "data": {
            "image/png": "[encoded data removed]",
            "text/plain": [
              "<IPython.core.display.Image object>"
            ]
          },
          "metadata": {
            "tags": [],
            "image/png": {
              "unconfined": true
            }
          },
          "execution_count": 4
        }
      ]
    },
    {
      "cell_type": "markdown",
      "metadata": {
        "id": "AU5qF98cbbBQ",
        "colab_type": "text"
      },
      "source": [
        "### Now that we have the optimal set of features and hyperparameters, we can determine which classifier would be best used for fake news detection"
      ]
    },
    {
      "cell_type": "code",
      "metadata": {
        "id": "Kv4mRX5GZYyD",
        "colab_type": "code",
        "outputId": "7eea66b5-c2d9-4306-87db-925ec267caef",
        "colab": {
          "base_uri": "https://localhost:8080/",
          "height": 204
        }
      },
      "source": [
        "pd.read_csv('https://raw.githubusercontent.com/guneetskohli/DATA301/master/df_best_overall_final.csv')"
      ],
      "execution_count": 0,
      "outputs": [
        {
          "output_type": "execute_result",
          "data": {
            "text/html": [
              "<div>\n",
              "<style scoped>\n",
              "    .dataframe tbody tr th:only-of-type {\n",
              "        vertical-align: middle;\n",
              "    }\n",
              "\n",
              "    .dataframe tbody tr th {\n",
              "        vertical-align: top;\n",
              "    }\n",
              "\n",
              "    .dataframe thead th {\n",
              "        text-align: right;\n",
              "    }\n",
              "</style>\n",
              "<table border=\"1\" class=\"dataframe\">\n",
              "  <thead>\n",
              "    <tr style=\"text-align: right;\">\n",
              "      <th></th>\n",
              "      <th>Model</th>\n",
              "      <th>Accuracy</th>\n",
              "      <th>Precision (Real)</th>\n",
              "      <th>Precision (Fake)</th>\n",
              "      <th>Recall (Real)</th>\n",
              "      <th>Recall (Fake)</th>\n",
              "      <th>F1 (Real)</th>\n",
              "      <th>F1 (Fake)</th>\n",
              "    </tr>\n",
              "  </thead>\n",
              "  <tbody>\n",
              "    <tr>\n",
              "      <th>0</th>\n",
              "      <td>KNeighbors</td>\n",
              "      <td>0.849925</td>\n",
              "      <td>1.000000</td>\n",
              "      <td>0.770023</td>\n",
              "      <td>0.438158</td>\n",
              "      <td>0.988235</td>\n",
              "      <td>0.604979</td>\n",
              "      <td>0.862872</td>\n",
              "    </tr>\n",
              "    <tr>\n",
              "      <th>1</th>\n",
              "      <td>PassiveAggressive</td>\n",
              "      <td>0.964414</td>\n",
              "      <td>0.984474</td>\n",
              "      <td>0.939697</td>\n",
              "      <td>0.943421</td>\n",
              "      <td>0.982353</td>\n",
              "      <td>0.970532</td>\n",
              "      <td>0.963152</td>\n",
              "    </tr>\n",
              "    <tr>\n",
              "      <th>2</th>\n",
              "      <td>RandomForest</td>\n",
              "      <td>0.939865</td>\n",
              "      <td>0.995238</td>\n",
              "      <td>0.891779</td>\n",
              "      <td>0.891316</td>\n",
              "      <td>0.994118</td>\n",
              "      <td>0.929391</td>\n",
              "      <td>0.945968</td>\n",
              "    </tr>\n",
              "    <tr>\n",
              "      <th>3</th>\n",
              "      <td>LinearSVC</td>\n",
              "      <td>0.929054</td>\n",
              "      <td>1.000000</td>\n",
              "      <td>0.870326</td>\n",
              "      <td>0.861842</td>\n",
              "      <td>1.000000</td>\n",
              "      <td>0.924906</td>\n",
              "      <td>0.930083</td>\n",
              "    </tr>\n",
              "    <tr>\n",
              "      <th>4</th>\n",
              "      <td>LogisticRegression</td>\n",
              "      <td>0.956156</td>\n",
              "      <td>1.000000</td>\n",
              "      <td>0.918442</td>\n",
              "      <td>0.917368</td>\n",
              "      <td>1.000000</td>\n",
              "      <td>0.955515</td>\n",
              "      <td>0.956520</td>\n",
              "    </tr>\n",
              "  </tbody>\n",
              "</table>\n",
              "</div>"
            ],
            "text/plain": [
              "                Model  Accuracy  ...  F1 (Real)  F1 (Fake)\n",
              "0          KNeighbors  0.849925  ...   0.604979   0.862872\n",
              "1   PassiveAggressive  0.964414  ...   0.970532   0.963152\n",
              "2        RandomForest  0.939865  ...   0.929391   0.945968\n",
              "3           LinearSVC  0.929054  ...   0.924906   0.930083\n",
              "4  LogisticRegression  0.956156  ...   0.955515   0.956520\n",
              "\n",
              "[5 rows x 8 columns]"
            ]
          },
          "metadata": {
            "tags": []
          },
          "execution_count": 12
        }
      ]
    },
    {
      "cell_type": "code",
      "metadata": {
        "id": "-K_3bjZ1Z5jt",
        "colab_type": "code",
        "outputId": "11f8dc1f-703b-4429-9305-070c59a5b045",
        "colab": {
          "base_uri": "https://localhost:8080/",
          "height": 147
        }
      },
      "source": [
        "Image(\"https://raw.githubusercontent.com/guneetskohli/DATA301/master/screen3.png\", unconfined=True)"
      ],
      "execution_count": 0,
      "outputs": [
        {
          "output_type": "execute_result",
          "data": {
            "image/png": "[encoded data removed]",
            "text/plain": [
              "<IPython.core.display.Image object>"
            ]
          },
          "metadata": {
            "tags": [],
            "image/png": {
              "unconfined": true
            }
          },
          "execution_count": 11
        }
      ]
    }
  ]
}