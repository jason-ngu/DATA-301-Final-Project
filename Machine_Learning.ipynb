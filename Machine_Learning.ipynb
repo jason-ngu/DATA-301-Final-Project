{
  "nbformat": 4,
  "nbformat_minor": 0,
  "metadata": {
    "colab": {
      "name": "Machine Learning",
      "provenance": [],
      "collapsed_sections": []
    },
    "kernelspec": {
      "name": "python3",
      "display_name": "Python 3"
    },
    "accelerator": "GPU"
  },
  "cells": [
    {
      "cell_type": "markdown",
      "metadata": {
        "id": "pSGRb-m0hh9L",
        "colab_type": "text"
      },
      "source": [
        "# Machine Learning\n",
        "\n",
        "In this section, we determined which model would be best to use to classify whether our news data is fake or real."
      ]
    },
    {
      "cell_type": "code",
      "metadata": {
        "colab_type": "code",
        "id": "De33IFzxyowi",
        "colab": {}
      },
      "source": [
        "import pandas as pd\n",
        "\n",
        "df_news = pd.read_csv('https://raw.githubusercontent.com/guneetskohli/DATA301/master/filtered_news.csv')"
      ],
      "execution_count": 0,
      "outputs": []
    },
    {
      "cell_type": "code",
      "metadata": {
        "id": "iaNLyCMROSee",
        "colab_type": "code",
        "colab": {}
      },
      "source": [
        "df_news.drop(['Unnamed: 0'], axis=1, inplace=True)"
      ],
      "execution_count": 0,
      "outputs": []
    },
    {
      "cell_type": "code",
      "metadata": {
        "id": "YBke0zB9YrzW",
        "colab_type": "code",
        "outputId": "9c551d79-622e-4857-c465-0bf1cd35fb64",
        "colab": {
          "base_uri": "https://localhost:8080/",
          "height": 493
        }
      },
      "source": [
        "df_news.head()"
      ],
      "execution_count": 3,
      "outputs": [
        {
          "output_type": "execute_result",
          "data": {
            "text/html": [
              "<div>\n",
              "<style scoped>\n",
              "    .dataframe tbody tr th:only-of-type {\n",
              "        vertical-align: middle;\n",
              "    }\n",
              "\n",
              "    .dataframe tbody tr th {\n",
              "        vertical-align: top;\n",
              "    }\n",
              "\n",
              "    .dataframe thead th {\n",
              "        text-align: right;\n",
              "    }\n",
              "</style>\n",
              "<table border=\"1\" class=\"dataframe\">\n",
              "  <thead>\n",
              "    <tr style=\"text-align: right;\">\n",
              "      <th></th>\n",
              "      <th>title</th>\n",
              "      <th>url</th>\n",
              "      <th>content</th>\n",
              "      <th>fake</th>\n",
              "      <th>title_len</th>\n",
              "      <th>content_len</th>\n",
              "    </tr>\n",
              "  </thead>\n",
              "  <tbody>\n",
              "    <tr>\n",
              "      <th>0</th>\n",
              "      <td>Sportless TV goes all nostalgic on a truly sur...</td>\n",
              "      <td>https://www.theguardian.com/sport/2020/mar/15/...</td>\n",
              "      <td>So, the show doesn’t have to go on after all. ...</td>\n",
              "      <td>0</td>\n",
              "      <td>13</td>\n",
              "      <td>862</td>\n",
              "    </tr>\n",
              "    <tr>\n",
              "      <th>1</th>\n",
              "      <td>Nation Perplexed By 16-Year-Old Who Doesn’t Wa...</td>\n",
              "      <td>https://www.theonion.com/nation-perplexed-by-1...</td>\n",
              "      <td>Following her U.N. address about the existenti...</td>\n",
              "      <td>1</td>\n",
              "      <td>10</td>\n",
              "      <td>197</td>\n",
              "    </tr>\n",
              "    <tr>\n",
              "      <th>2</th>\n",
              "      <td>Inconsolable Jeff Sessions Tries To Commit Sui...</td>\n",
              "      <td>https://politics.theonion.com/inconsolable-jef...</td>\n",
              "      <td>Following months of bruising criticism from De...</td>\n",
              "      <td>1</td>\n",
              "      <td>10</td>\n",
              "      <td>129</td>\n",
              "    </tr>\n",
              "    <tr>\n",
              "      <th>3</th>\n",
              "      <td>Israel's opposition head Benny Gantz wins supp...</td>\n",
              "      <td>https://www.theguardian.com/world/2020/mar/15/...</td>\n",
              "      <td>Israeli political parties have backed the oppo...</td>\n",
              "      <td>0</td>\n",
              "      <td>10</td>\n",
              "      <td>1053</td>\n",
              "    </tr>\n",
              "    <tr>\n",
              "      <th>4</th>\n",
              "      <td>‘No Way To Prevent This,’ Says Only Nation Whe...</td>\n",
              "      <td>https://www.theonion.com/no-way-to-prevent-thi...</td>\n",
              "      <td>In the days following a violent rampage in sou...</td>\n",
              "      <td>1</td>\n",
              "      <td>12</td>\n",
              "      <td>200</td>\n",
              "    </tr>\n",
              "  </tbody>\n",
              "</table>\n",
              "</div>"
            ],
            "text/plain": [
              "                                               title  ... content_len\n",
              "0  Sportless TV goes all nostalgic on a truly sur...  ...         862\n",
              "1  Nation Perplexed By 16-Year-Old Who Doesn’t Wa...  ...         197\n",
              "2  Inconsolable Jeff Sessions Tries To Commit Sui...  ...         129\n",
              "3  Israel's opposition head Benny Gantz wins supp...  ...        1053\n",
              "4  ‘No Way To Prevent This,’ Says Only Nation Whe...  ...         200\n",
              "\n",
              "[5 rows x 6 columns]"
            ]
          },
          "metadata": {
            "tags": []
          },
          "execution_count": 3
        }
      ]
    },
    {
      "cell_type": "markdown",
      "metadata": {
        "id": "F_IgMv8X2EKW",
        "colab_type": "text"
      },
      "source": [
        "# Setting up Column Transformers and y_train Data\n",
        "\n",
        "Since we are using classifier models, we need to make real and fake filtered series for determinig our test metrics."
      ]
    },
    {
      "cell_type": "code",
      "metadata": {
        "id": "oVNtnT0zZCPT",
        "colab_type": "code",
        "colab": {}
      },
      "source": [
        "from sklearn.linear_model import PassiveAggressiveClassifier\n",
        "from sklearn.feature_extraction.text import TfidfVectorizer\n",
        "from sklearn.pipeline import make_pipeline\n",
        "from sklearn.compose import make_column_transformer\n",
        "from sklearn.model_selection import cross_val_score\n",
        "from sklearn.preprocessing import StandardScaler\n",
        "from sklearn.neighbors import KNeighborsClassifier\n",
        "from sklearn.ensemble import RandomForestClassifier\n",
        "from sklearn.linear_model import LogisticRegression\n",
        "from sklearn.svm import LinearSVC\n",
        "\n",
        "y_train = df_news['fake']\n",
        "real = (y_train == 0)\n",
        "fake = (y_train == 1)\n",
        "\n",
        "cts = [\n",
        "make_column_transformer(\n",
        "    (StandardScaler(), ['title_len']),\n",
        "    (TfidfVectorizer(norm=None), 'title')\n",
        "),\n",
        "make_column_transformer(\n",
        "    (StandardScaler(), ['content_len']),\n",
        "    (TfidfVectorizer(norm=None), 'content')\n",
        "),\n",
        "make_column_transformer(\n",
        "    (StandardScaler(), ['title_len', 'content_len']),\n",
        "    (TfidfVectorizer(norm=None), 'title'),\n",
        "    (TfidfVectorizer(norm=None), 'content')\n",
        ")]\n",
        "\n",
        "features_list = [[\"title\", \"title_len\"],\n",
        "                 [\"content\", \"content_len\"],\n",
        "                 [\"title\", \"title_len\", \"content\", \"content_len\"]]\n",
        "results_dict = {\"Model\" : [], \"Features\" : [], \"Accuracy\" : [], \n",
        "                \"Precision (Real)\" : [], \"Precision (Fake)\" : [],\n",
        "                \"Recall (Real)\" : [], \"Recall (Fake)\" : [],\n",
        "                \"F1 (Real)\" : [], \"F1 (Fake)\" : []}"
      ],
      "execution_count": 0,
      "outputs": []
    },
    {
      "cell_type": "markdown",
      "metadata": {
        "id": "Ygua7xtRhz2o",
        "colab_type": "text"
      },
      "source": [
        "# Determining Classification Test Metrics for Different Models\n",
        "\n",
        "### Model Selection and Reasoning\n",
        "\n",
        "Some of the models we chose to use in the machine learning portion were selected due to previous use but required additional research to determine the optimal classifiers for fake news detection.\n",
        "\n",
        "* K-Neighbors Classifier\n",
        "> We used the K Neighbors Classifier simply because it was the first type of classifier we learned about in our lessons.\n",
        "* Passive Aggressive Classifier\n",
        "> Extra research was done to choose this classifier. Just based off of the name, we thought it would be perfect for our project, but upon doing further research it appears that it works well when performing predictions on large streams of data, like a ton of Twitter tweets. This makes it very applicable to our project as we have a lot of articles to train our model on. (https://www.youtube.com/watch?v=TJU8NfDdqNQ)\n",
        "* Random Forest Classifier\n",
        "> This classifier was selected primarily because we used it was recommended and used in our Kaggle competition machine learning models and was found to perform very well in prediciting data.\n",
        "* Linear SVC Classifier\n",
        "> We found this classifier when doing our research and found it to be useful for our project because it works by creating a separating line between our data of two classes (real and fake). This is in a similar way to clustering and makes a great classifier for our fake news detection model. (https://towardsdatascience.com/https-medium-com-pupalerushikesh-svm-f4b42800e989)\n",
        "* Logistic Regression Classifier\n",
        "> The Logistic Regression model was chosen because it is a classification algorithm that is similar to linear regression because it uses an equation for its predictions, but a sigmoid one instead to account for outliers. It also outputs binary values and their probabilities as opposed to numeric ones like in Linear Regression. (https://towardsdatascience.com/logistic-regression-classifier-8583e0c3cf9)"
      ]
    },
    {
      "cell_type": "code",
      "metadata": {
        "id": "15UYmMBlaERL",
        "colab_type": "code",
        "outputId": "dc70e5e2-cc97-4a48-8fc7-35c302bf5520",
        "colab": {
          "base_uri": "https://localhost:8080/",
          "height": 173
        }
      },
      "source": [
        "classifiers_list = [\n",
        "     KNeighborsClassifier(n_neighbors=5),  \n",
        "     PassiveAggressiveClassifier(),\n",
        "     RandomForestClassifier(),\n",
        "     LinearSVC(dual=False),\n",
        "     LogisticRegression()\n",
        "]\n",
        "\n",
        "models = [\n",
        "     'KNeighbors',\n",
        "     'PassiveAggressive',\n",
        "     'RandomForest',\n",
        "     'LinearSVC',\n",
        "     'LogisticRegression'\n",
        "]\n",
        "\n",
        "i = 0\n",
        "j = 0\n",
        "for classifier in classifiers_list:\n",
        "  for features in features_list:\n",
        "    pipeline = make_pipeline(\n",
        "      cts[i],\n",
        "      classifier\n",
        "    )\n",
        "\n",
        "    results_dict['Model'].append(models[j])\n",
        "    results_dict['Features'].append(str(features))\n",
        "    results_dict['Accuracy'].append(cross_val_score(pipeline, df_news[features], y_train, \n",
        "                              cv=10, scoring=\"accuracy\").mean())\n",
        "    results_dict['Precision (Real)'].append(cross_val_score(pipeline, df_news[features], real, \n",
        "                              cv=10, scoring=\"precision\").mean())\n",
        "    results_dict['Precision (Fake)'].append(cross_val_score(pipeline, df_news[features], fake, \n",
        "                              cv=10, scoring=\"precision\").mean())\n",
        "    results_dict['Recall (Real)'].append(cross_val_score(pipeline, df_news[features], real, \n",
        "                              cv=10, scoring=\"recall\").mean())\n",
        "    results_dict['Recall (Fake)'].append(cross_val_score(pipeline, df_news[features], fake, \n",
        "                              cv=10, scoring=\"recall\").mean())\n",
        "    results_dict['F1 (Real)'].append(cross_val_score(pipeline, df_news[features], real, \n",
        "                              cv=10, scoring=\"f1\").mean())\n",
        "    results_dict['F1 (Fake)'].append(cross_val_score(pipeline, df_news[features], fake, \n",
        "                              cv=10, scoring=\"f1\").mean())\n",
        "    \n",
        "    i = i + 1\n",
        "  j = j + 1\n",
        "  i = 0"
      ],
      "execution_count": 22,
      "outputs": [
        {
          "output_type": "stream",
          "text": [
            "/usr/local/lib/python3.6/dist-packages/sklearn/metrics/_classification.py:1272: UndefinedMetricWarning: Precision is ill-defined and being set to 0.0 due to no predicted samples. Use `zero_division` parameter to control this behavior.\n",
            "  _warn_prf(average, modifier, msg_start, len(result))\n",
            "/usr/local/lib/python3.6/dist-packages/sklearn/metrics/_classification.py:1272: UndefinedMetricWarning: Precision is ill-defined and being set to 0.0 due to no predicted samples. Use `zero_division` parameter to control this behavior.\n",
            "  _warn_prf(average, modifier, msg_start, len(result))\n",
            "/usr/local/lib/python3.6/dist-packages/sklearn/metrics/_classification.py:1272: UndefinedMetricWarning: Precision is ill-defined and being set to 0.0 due to no predicted samples. Use `zero_division` parameter to control this behavior.\n",
            "  _warn_prf(average, modifier, msg_start, len(result))\n",
            "/usr/local/lib/python3.6/dist-packages/sklearn/metrics/_classification.py:1272: UndefinedMetricWarning: Precision is ill-defined and being set to 0.0 due to no predicted samples. Use `zero_division` parameter to control this behavior.\n",
            "  _warn_prf(average, modifier, msg_start, len(result))\n"
          ],
          "name": "stderr"
        }
      ]
    },
    {
      "cell_type": "markdown",
      "metadata": {
        "id": "qLz5IiMVwH0X",
        "colab_type": "text"
      },
      "source": [
        "# Generate a DataFrame of the results"
      ]
    },
    {
      "cell_type": "code",
      "metadata": {
        "id": "ZKqA_qRL3_8O",
        "colab_type": "code",
        "outputId": "194ccf9b-203f-41f5-f639-6e85807006dd",
        "colab": {
          "base_uri": "https://localhost:8080/",
          "height": 786
        }
      },
      "source": [
        "df_results = pd.DataFrame(results_dict)\n",
        "df_results"
      ],
      "execution_count": 23,
      "outputs": [
        {
          "output_type": "execute_result",
          "data": {
            "text/html": [
              "<div>\n",
              "<style scoped>\n",
              "    .dataframe tbody tr th:only-of-type {\n",
              "        vertical-align: middle;\n",
              "    }\n",
              "\n",
              "    .dataframe tbody tr th {\n",
              "        vertical-align: top;\n",
              "    }\n",
              "\n",
              "    .dataframe thead th {\n",
              "        text-align: right;\n",
              "    }\n",
              "</style>\n",
              "<table border=\"1\" class=\"dataframe\">\n",
              "  <thead>\n",
              "    <tr style=\"text-align: right;\">\n",
              "      <th></th>\n",
              "      <th>Model</th>\n",
              "      <th>Features</th>\n",
              "      <th>Accuracy</th>\n",
              "      <th>Precision (Real)</th>\n",
              "      <th>Precision (Fake)</th>\n",
              "      <th>Recall (Real)</th>\n",
              "      <th>Recall (Fake)</th>\n",
              "      <th>F1 (Real)</th>\n",
              "      <th>F1 (Fake)</th>\n",
              "    </tr>\n",
              "  </thead>\n",
              "  <tbody>\n",
              "    <tr>\n",
              "      <th>0</th>\n",
              "      <td>KNeighbors</td>\n",
              "      <td>['title', 'title_len']</td>\n",
              "      <td>0.569144</td>\n",
              "      <td>0.554409</td>\n",
              "      <td>0.600000</td>\n",
              "      <td>1.000000</td>\n",
              "      <td>0.076471</td>\n",
              "      <td>0.712937</td>\n",
              "      <td>0.133275</td>\n",
              "    </tr>\n",
              "    <tr>\n",
              "      <th>1</th>\n",
              "      <td>KNeighbors</td>\n",
              "      <td>['content', 'content_len']</td>\n",
              "      <td>0.629505</td>\n",
              "      <td>1.000000</td>\n",
              "      <td>0.558746</td>\n",
              "      <td>0.305526</td>\n",
              "      <td>1.000000</td>\n",
              "      <td>0.460096</td>\n",
              "      <td>0.716460</td>\n",
              "    </tr>\n",
              "    <tr>\n",
              "      <th>2</th>\n",
              "      <td>KNeighbors</td>\n",
              "      <td>['title', 'title_len', 'content', 'content_len']</td>\n",
              "      <td>0.645871</td>\n",
              "      <td>1.000000</td>\n",
              "      <td>0.571415</td>\n",
              "      <td>0.336053</td>\n",
              "      <td>1.000000</td>\n",
              "      <td>0.490978</td>\n",
              "      <td>0.726348</td>\n",
              "    </tr>\n",
              "    <tr>\n",
              "      <th>3</th>\n",
              "      <td>PassiveAggressive</td>\n",
              "      <td>['title', 'title_len']</td>\n",
              "      <td>0.861411</td>\n",
              "      <td>0.865832</td>\n",
              "      <td>0.853553</td>\n",
              "      <td>0.882368</td>\n",
              "      <td>0.824510</td>\n",
              "      <td>0.868589</td>\n",
              "      <td>0.843934</td>\n",
              "    </tr>\n",
              "    <tr>\n",
              "      <th>4</th>\n",
              "      <td>PassiveAggressive</td>\n",
              "      <td>['content', 'content_len']</td>\n",
              "      <td>0.945270</td>\n",
              "      <td>0.977709</td>\n",
              "      <td>0.907826</td>\n",
              "      <td>0.912368</td>\n",
              "      <td>0.965033</td>\n",
              "      <td>0.938496</td>\n",
              "      <td>0.943619</td>\n",
              "    </tr>\n",
              "    <tr>\n",
              "      <th>5</th>\n",
              "      <td>PassiveAggressive</td>\n",
              "      <td>['title', 'title_len', 'content', 'content_len']</td>\n",
              "      <td>0.967117</td>\n",
              "      <td>0.989737</td>\n",
              "      <td>0.951954</td>\n",
              "      <td>0.943421</td>\n",
              "      <td>0.988235</td>\n",
              "      <td>0.965532</td>\n",
              "      <td>0.966177</td>\n",
              "    </tr>\n",
              "    <tr>\n",
              "      <th>6</th>\n",
              "      <td>RandomForest</td>\n",
              "      <td>['title', 'title_len']</td>\n",
              "      <td>0.790390</td>\n",
              "      <td>0.754223</td>\n",
              "      <td>0.892892</td>\n",
              "      <td>0.928684</td>\n",
              "      <td>0.620261</td>\n",
              "      <td>0.813872</td>\n",
              "      <td>0.728621</td>\n",
              "    </tr>\n",
              "    <tr>\n",
              "      <th>7</th>\n",
              "      <td>RandomForest</td>\n",
              "      <td>['content', 'content_len']</td>\n",
              "      <td>0.945270</td>\n",
              "      <td>0.995238</td>\n",
              "      <td>0.895506</td>\n",
              "      <td>0.891842</td>\n",
              "      <td>0.988235</td>\n",
              "      <td>0.927040</td>\n",
              "      <td>0.943136</td>\n",
              "    </tr>\n",
              "    <tr>\n",
              "      <th>8</th>\n",
              "      <td>RandomForest</td>\n",
              "      <td>['title', 'title_len', 'content', 'content_len']</td>\n",
              "      <td>0.939715</td>\n",
              "      <td>0.989683</td>\n",
              "      <td>0.899553</td>\n",
              "      <td>0.896842</td>\n",
              "      <td>1.000000</td>\n",
              "      <td>0.934441</td>\n",
              "      <td>0.945493</td>\n",
              "    </tr>\n",
              "    <tr>\n",
              "      <th>9</th>\n",
              "      <td>LinearSVC</td>\n",
              "      <td>['title', 'title_len']</td>\n",
              "      <td>0.853303</td>\n",
              "      <td>0.849287</td>\n",
              "      <td>0.866216</td>\n",
              "      <td>0.887632</td>\n",
              "      <td>0.813072</td>\n",
              "      <td>0.866479</td>\n",
              "      <td>0.836207</td>\n",
              "    </tr>\n",
              "    <tr>\n",
              "      <th>10</th>\n",
              "      <td>LinearSVC</td>\n",
              "      <td>['content', 'content_len']</td>\n",
              "      <td>0.893393</td>\n",
              "      <td>1.000000</td>\n",
              "      <td>0.818895</td>\n",
              "      <td>0.799737</td>\n",
              "      <td>1.000000</td>\n",
              "      <td>0.885878</td>\n",
              "      <td>0.899226</td>\n",
              "    </tr>\n",
              "    <tr>\n",
              "      <th>11</th>\n",
              "      <td>LinearSVC</td>\n",
              "      <td>['title', 'title_len', 'content', 'content_len']</td>\n",
              "      <td>0.929054</td>\n",
              "      <td>1.000000</td>\n",
              "      <td>0.870326</td>\n",
              "      <td>0.861842</td>\n",
              "      <td>1.000000</td>\n",
              "      <td>0.924906</td>\n",
              "      <td>0.930083</td>\n",
              "    </tr>\n",
              "    <tr>\n",
              "      <th>12</th>\n",
              "      <td>LogisticRegression</td>\n",
              "      <td>['title', 'title_len']</td>\n",
              "      <td>0.836712</td>\n",
              "      <td>0.814080</td>\n",
              "      <td>0.881357</td>\n",
              "      <td>0.908158</td>\n",
              "      <td>0.754248</td>\n",
              "      <td>0.856803</td>\n",
              "      <td>0.808370</td>\n",
              "    </tr>\n",
              "    <tr>\n",
              "      <th>13</th>\n",
              "      <td>LogisticRegression</td>\n",
              "      <td>['content', 'content_len']</td>\n",
              "      <td>0.953453</td>\n",
              "      <td>0.995238</td>\n",
              "      <td>0.918442</td>\n",
              "      <td>0.917368</td>\n",
              "      <td>0.994118</td>\n",
              "      <td>0.953076</td>\n",
              "      <td>0.953489</td>\n",
              "    </tr>\n",
              "    <tr>\n",
              "      <th>14</th>\n",
              "      <td>LogisticRegression</td>\n",
              "      <td>['title', 'title_len', 'content', 'content_len']</td>\n",
              "      <td>0.956156</td>\n",
              "      <td>1.000000</td>\n",
              "      <td>0.918442</td>\n",
              "      <td>0.917368</td>\n",
              "      <td>1.000000</td>\n",
              "      <td>0.955515</td>\n",
              "      <td>0.956520</td>\n",
              "    </tr>\n",
              "  </tbody>\n",
              "</table>\n",
              "</div>"
            ],
            "text/plain": [
              "                 Model  ... F1 (Fake)\n",
              "0           KNeighbors  ...  0.133275\n",
              "1           KNeighbors  ...  0.716460\n",
              "2           KNeighbors  ...  0.726348\n",
              "3    PassiveAggressive  ...  0.843934\n",
              "4    PassiveAggressive  ...  0.943619\n",
              "5    PassiveAggressive  ...  0.966177\n",
              "6         RandomForest  ...  0.728621\n",
              "7         RandomForest  ...  0.943136\n",
              "8         RandomForest  ...  0.945493\n",
              "9            LinearSVC  ...  0.836207\n",
              "10           LinearSVC  ...  0.899226\n",
              "11           LinearSVC  ...  0.930083\n",
              "12  LogisticRegression  ...  0.808370\n",
              "13  LogisticRegression  ...  0.953489\n",
              "14  LogisticRegression  ...  0.956520\n",
              "\n",
              "[15 rows x 9 columns]"
            ]
          },
          "metadata": {
            "tags": []
          },
          "execution_count": 23
        }
      ]
    },
    {
      "cell_type": "markdown",
      "metadata": {
        "id": "uF4z8YFCqmwa",
        "colab_type": "text"
      },
      "source": [
        "# Analysis of Results to Determine Optimal Features\n",
        "\n",
        "When grouping by features and observing the different test metric results, we can see that across the board, incoporating title, content, and their lengths yield the best results for accuracy, precision, recall, and f1 score. From here, we can also observe that when the title is the only feature, its test metric results are the lowest performing. This makes sense intuitively because as observed from our data exploration, the lengths of the titles are similar making it difficult for our models to discern article credibility based on title alone. However, once it is given the context of the article's content, the models perform a lot better. Given the title and content it performs marginally better than content alone, but still better in every case."
      ]
    },
    {
      "cell_type": "code",
      "metadata": {
        "id": "okzuOPqcUmfb",
        "colab_type": "code",
        "outputId": "dc28f0e7-1e83-443f-b0f0-b341b2e4c91b",
        "colab": {
          "base_uri": "https://localhost:8080/",
          "height": 612
        }
      },
      "source": [
        "print(df_results.groupby(['Features'])['Accuracy'].mean().sort_values())\n",
        "print(df_results.groupby(['Features'])['Precision (Real)'].mean().sort_values())\n",
        "print(df_results.groupby(['Features'])['Precision (Fake)'].mean().sort_values())\n",
        "print(df_results.groupby(['Features'])['Recall (Real)'].mean().sort_values())\n",
        "print(df_results.groupby(['Features'])['Recall (Fake)'].mean().sort_values())\n",
        "print(df_results.groupby(['Features'])['F1 (Real)'].mean().sort_values())\n",
        "print(df_results.groupby(['Features'])['F1 (Fake)'].mean().sort_values())"
      ],
      "execution_count": 24,
      "outputs": [
        {
          "output_type": "stream",
          "text": [
            "Features\n",
            "['title', 'title_len']                              0.782192\n",
            "['content', 'content_len']                          0.873378\n",
            "['title', 'title_len', 'content', 'content_len']    0.887583\n",
            "Name: Accuracy, dtype: float64\n",
            "Features\n",
            "['title', 'title_len']                              0.767566\n",
            "['content', 'content_len']                          0.993637\n",
            "['title', 'title_len', 'content', 'content_len']    0.995884\n",
            "Name: Precision (Real), dtype: float64\n",
            "Features\n",
            "['title', 'title_len']                              0.818804\n",
            "['content', 'content_len']                          0.819883\n",
            "['title', 'title_len', 'content', 'content_len']    0.842338\n",
            "Name: Precision (Fake), dtype: float64\n",
            "Features\n",
            "['content', 'content_len']                          0.765368\n",
            "['title', 'title_len', 'content', 'content_len']    0.791105\n",
            "['title', 'title_len']                              0.921368\n",
            "Name: Recall (Real), dtype: float64\n",
            "Features\n",
            "['title', 'title_len']                              0.617712\n",
            "['content', 'content_len']                          0.989477\n",
            "['title', 'title_len', 'content', 'content_len']    0.997647\n",
            "Name: Recall (Fake), dtype: float64\n",
            "Features\n",
            "['title', 'title_len']                              0.823736\n",
            "['content', 'content_len']                          0.832917\n",
            "['title', 'title_len', 'content', 'content_len']    0.854274\n",
            "Name: F1 (Real), dtype: float64\n",
            "Features\n",
            "['title', 'title_len']                              0.670081\n",
            "['content', 'content_len']                          0.891186\n",
            "['title', 'title_len', 'content', 'content_len']    0.904924\n",
            "Name: F1 (Fake), dtype: float64\n"
          ],
          "name": "stdout"
        }
      ]
    },
    {
      "cell_type": "markdown",
      "metadata": {
        "id": "yA49zxtXsF6q",
        "colab_type": "text"
      },
      "source": [
        "# Analysis of Results to Determine the Optimal Model\n",
        "\n",
        "Once we have determined the optimal set of features for our models, we can select which model would be the best for determining if our news are fake or real. This was achieved by observing which model had the highest test metric scores for Accuracy, Precision, Recall, and F1."
      ]
    },
    {
      "cell_type": "code",
      "metadata": {
        "id": "YeL7-zYIX71l",
        "colab_type": "code",
        "outputId": "f2a20bd4-64c2-4c14-f46f-28c370761d98",
        "colab": {
          "base_uri": "https://localhost:8080/",
          "height": 422
        }
      },
      "source": [
        "df_best_feat = df_results[df_results['Features'] == '[\\'title\\', \\'title_len\\', \\'content\\', \\'content_len\\']'].copy()\n",
        "df_best_feat.set_index('Model', inplace=True)\n",
        "df_best_feat"
      ],
      "execution_count": 8,
      "outputs": [
        {
          "output_type": "execute_result",
          "data": {
            "text/html": [
              "<div>\n",
              "<style scoped>\n",
              "    .dataframe tbody tr th:only-of-type {\n",
              "        vertical-align: middle;\n",
              "    }\n",
              "\n",
              "    .dataframe tbody tr th {\n",
              "        vertical-align: top;\n",
              "    }\n",
              "\n",
              "    .dataframe thead th {\n",
              "        text-align: right;\n",
              "    }\n",
              "</style>\n",
              "<table border=\"1\" class=\"dataframe\">\n",
              "  <thead>\n",
              "    <tr style=\"text-align: right;\">\n",
              "      <th></th>\n",
              "      <th>Features</th>\n",
              "      <th>Accuracy</th>\n",
              "      <th>Precision (Real)</th>\n",
              "      <th>Precision (Fake)</th>\n",
              "      <th>Recall (Real)</th>\n",
              "      <th>Recall (Fake)</th>\n",
              "      <th>F1 (Real)</th>\n",
              "      <th>F1 (Fake)</th>\n",
              "    </tr>\n",
              "    <tr>\n",
              "      <th>Model</th>\n",
              "      <th></th>\n",
              "      <th></th>\n",
              "      <th></th>\n",
              "      <th></th>\n",
              "      <th></th>\n",
              "      <th></th>\n",
              "      <th></th>\n",
              "      <th></th>\n",
              "    </tr>\n",
              "  </thead>\n",
              "  <tbody>\n",
              "    <tr>\n",
              "      <th>KNeighbors</th>\n",
              "      <td>['title', 'title_len', 'content', 'content_len']</td>\n",
              "      <td>0.645871</td>\n",
              "      <td>1.000000</td>\n",
              "      <td>0.571415</td>\n",
              "      <td>0.336053</td>\n",
              "      <td>1.000000</td>\n",
              "      <td>0.490978</td>\n",
              "      <td>0.726348</td>\n",
              "    </tr>\n",
              "    <tr>\n",
              "      <th>PassiveAggressive</th>\n",
              "      <td>['title', 'title_len', 'content', 'content_len']</td>\n",
              "      <td>0.961712</td>\n",
              "      <td>0.994737</td>\n",
              "      <td>0.940024</td>\n",
              "      <td>0.943421</td>\n",
              "      <td>0.994118</td>\n",
              "      <td>0.970820</td>\n",
              "      <td>0.963458</td>\n",
              "    </tr>\n",
              "    <tr>\n",
              "      <th>RandomForest</th>\n",
              "      <td>['title', 'title_len', 'content', 'content_len']</td>\n",
              "      <td>0.942492</td>\n",
              "      <td>0.989975</td>\n",
              "      <td>0.896191</td>\n",
              "      <td>0.881842</td>\n",
              "      <td>0.994118</td>\n",
              "      <td>0.938624</td>\n",
              "      <td>0.948570</td>\n",
              "    </tr>\n",
              "    <tr>\n",
              "      <th>LinearSVC</th>\n",
              "      <td>['title', 'title_len', 'content', 'content_len']</td>\n",
              "      <td>0.929054</td>\n",
              "      <td>1.000000</td>\n",
              "      <td>0.870326</td>\n",
              "      <td>0.861842</td>\n",
              "      <td>1.000000</td>\n",
              "      <td>0.924906</td>\n",
              "      <td>0.930083</td>\n",
              "    </tr>\n",
              "    <tr>\n",
              "      <th>LogisticRegression</th>\n",
              "      <td>['title', 'title_len', 'content', 'content_len']</td>\n",
              "      <td>0.956156</td>\n",
              "      <td>1.000000</td>\n",
              "      <td>0.918442</td>\n",
              "      <td>0.917368</td>\n",
              "      <td>1.000000</td>\n",
              "      <td>0.955515</td>\n",
              "      <td>0.956520</td>\n",
              "    </tr>\n",
              "  </tbody>\n",
              "</table>\n",
              "</div>"
            ],
            "text/plain": [
              "                                                            Features  ...  F1 (Fake)\n",
              "Model                                                                 ...           \n",
              "KNeighbors          ['title', 'title_len', 'content', 'content_len']  ...   0.726348\n",
              "PassiveAggressive   ['title', 'title_len', 'content', 'content_len']  ...   0.963458\n",
              "RandomForest        ['title', 'title_len', 'content', 'content_len']  ...   0.948570\n",
              "LinearSVC           ['title', 'title_len', 'content', 'content_len']  ...   0.930083\n",
              "LogisticRegression  ['title', 'title_len', 'content', 'content_len']  ...   0.956520\n",
              "\n",
              "[5 rows x 8 columns]"
            ]
          },
          "metadata": {
            "tags": []
          },
          "execution_count": 8
        }
      ]
    },
    {
      "cell_type": "markdown",
      "metadata": {
        "id": "wYT6uJWyvmlX",
        "colab_type": "text"
      },
      "source": [
        "Overall, we found that our Passive Agressive Classifier Model performed the best in the majority of the test metrics. "
      ]
    },
    {
      "cell_type": "code",
      "metadata": {
        "id": "iGn7ygp_YvK9",
        "colab_type": "code",
        "outputId": "650dfe27-62d1-4aae-c24b-968209b8cc16",
        "colab": {
          "base_uri": "https://localhost:8080/",
          "height": 136
        }
      },
      "source": [
        "print(\"Best model for Accuracy: \" + df_best_feat['Accuracy'].idxmax())\n",
        "print(\"Best model for Precision (Real): \" + df_best_feat['Precision (Real)'].idxmax())\n",
        "print(\"Best model for Precision (Fake): \" + df_best_feat['Precision (Fake)'].idxmax())\n",
        "print(\"Best model for Recall (Real): \" + df_best_feat['Recall (Real)'].idxmax())\n",
        "print(\"Best model for Recall (Fake): \" + df_best_feat['Recall (Fake)'].idxmax())\n",
        "print(\"Best model for F1 (Real): \" + df_best_feat['F1 (Real)'].idxmax())\n",
        "print(\"Best model for F1 (Fake): \" + df_best_feat['F1 (Fake)'].idxmax())"
      ],
      "execution_count": 26,
      "outputs": [
        {
          "output_type": "stream",
          "text": [
            "Best model for Accuracy: PassiveAggressive\n",
            "Best model for Precision (Real): KNeighbors\n",
            "Best model for Precision (Fake): PassiveAggressive\n",
            "Best model for Recall (Real): PassiveAggressive\n",
            "Best model for Recall (Fake): KNeighbors\n",
            "Best model for F1 (Real): PassiveAggressive\n",
            "Best model for F1 (Fake): PassiveAggressive\n"
          ],
          "name": "stdout"
        }
      ]
    },
    {
      "cell_type": "markdown",
      "metadata": {
        "id": "ikfSwwKJXHak",
        "colab_type": "text"
      },
      "source": [
        "# Tuning the HyperParameters for each Model\n",
        "\n",
        "We evaluated the hyperparameters on the average F1 score because accuracy would not have been an accurate metric to evaluate them on due to the idea of false positives and false negatives. "
      ]
    },
    {
      "cell_type": "code",
      "metadata": {
        "id": "a6E7bW4IyBb9",
        "colab_type": "code",
        "colab": {}
      },
      "source": [
        "X_train = df_news[[\"title\", \"title_len\", \"content\", \"content_len\"]]\n",
        "\n",
        "ct = make_column_transformer(\n",
        "    (StandardScaler(), ['title_len', 'content_len']),\n",
        "    (TfidfVectorizer(norm=None), 'title'),\n",
        "    (TfidfVectorizer(norm=None), 'content')\n",
        ")"
      ],
      "execution_count": 0,
      "outputs": []
    },
    {
      "cell_type": "code",
      "metadata": {
        "id": "M4ZsceMdzZWi",
        "colab_type": "code",
        "outputId": "435da1fb-6b92-40c0-a7f5-eb9f63ad51dd",
        "colab": {
          "base_uri": "https://localhost:8080/",
          "height": 482
        }
      },
      "source": [
        "tests = {\n",
        "    \"# of Neighbors\" : [],\n",
        "    \"F1\":[],\n",
        "}\n",
        "\n",
        "for k in range(1, 50):\n",
        "  pipeline = make_pipeline(\n",
        "      ct,\n",
        "      KNeighborsClassifier(n_neighbors=k)\n",
        "  ) \n",
        "  f1 =  cross_val_score(pipeline, X=X_train, y=y_train,\n",
        "                             scoring=\"f1_macro\", cv=10).mean()\n",
        "  tests['# of Neighbors'].append(k)\n",
        "  tests['F1'].append(f1)\n",
        "    \n",
        "df_tuned_KN = pd.DataFrame(tests)\n",
        "df_tuned_KN.plot.scatter(x='# of Neighbors', \\\n",
        "                         y='F1', \\\n",
        "                         title='K Neighbors Classifier')\n",
        "df_tuned_KN.sort_values(by='F1', ascending=False).head()\n"
      ],
      "execution_count": 11,
      "outputs": [
        {
          "output_type": "execute_result",
          "data": {
            "text/html": [
              "<div>\n",
              "<style scoped>\n",
              "    .dataframe tbody tr th:only-of-type {\n",
              "        vertical-align: middle;\n",
              "    }\n",
              "\n",
              "    .dataframe tbody tr th {\n",
              "        vertical-align: top;\n",
              "    }\n",
              "\n",
              "    .dataframe thead th {\n",
              "        text-align: right;\n",
              "    }\n",
              "</style>\n",
              "<table border=\"1\" class=\"dataframe\">\n",
              "  <thead>\n",
              "    <tr style=\"text-align: right;\">\n",
              "      <th></th>\n",
              "      <th># of Neighbors</th>\n",
              "      <th>F1</th>\n",
              "    </tr>\n",
              "  </thead>\n",
              "  <tbody>\n",
              "    <tr>\n",
              "      <th>1</th>\n",
              "      <td>2</td>\n",
              "      <td>0.847433</td>\n",
              "    </tr>\n",
              "    <tr>\n",
              "      <th>0</th>\n",
              "      <td>1</td>\n",
              "      <td>0.832878</td>\n",
              "    </tr>\n",
              "    <tr>\n",
              "      <th>3</th>\n",
              "      <td>4</td>\n",
              "      <td>0.719251</td>\n",
              "    </tr>\n",
              "    <tr>\n",
              "      <th>2</th>\n",
              "      <td>3</td>\n",
              "      <td>0.712803</td>\n",
              "    </tr>\n",
              "    <tr>\n",
              "      <th>4</th>\n",
              "      <td>5</td>\n",
              "      <td>0.608663</td>\n",
              "    </tr>\n",
              "  </tbody>\n",
              "</table>\n",
              "</div>"
            ],
            "text/plain": [
              "   # of Neighbors        F1\n",
              "1               2  0.847433\n",
              "0               1  0.832878\n",
              "3               4  0.719251\n",
              "2               3  0.712803\n",
              "4               5  0.608663"
            ]
          },
          "metadata": {
            "tags": []
          },
          "execution_count": 11
        },
        {
          "output_type": "display_data",
          "data": {
            "image/png": "[encoded data removed]",
            "text/plain": [
              "<Figure size 432x288 with 1 Axes>"
            ]
          },
          "metadata": {
            "tags": []
          }
        }
      ]
    },
    {
      "cell_type": "code",
      "metadata": {
        "id": "jWcyj1EkByF0",
        "colab_type": "code",
        "outputId": "4386b162-94e2-4ed0-d564-6bb428e8019f",
        "colab": {
          "base_uri": "https://localhost:8080/",
          "height": 482
        }
      },
      "source": [
        "tests = {\n",
        "    \"# of Estimators\" : [],\n",
        "    \"F1\":[],\n",
        "}\n",
        "\n",
        "for n in range(1, 50):\n",
        "  pipeline = make_pipeline(\n",
        "      ct,\n",
        "      RandomForestClassifier(n_estimators=n)\n",
        "  ) \n",
        "  f1 =  cross_val_score(pipeline, X=X_train, y=y_train,\n",
        "                             scoring=\"f1_macro\", cv=10).mean()\n",
        "  tests['# of Estimators'].append(n)\n",
        "  tests['F1'].append(f1)\n",
        "    \n",
        "df_tuned_RF = pd.DataFrame(tests)\n",
        "ax = df_tuned_RF.plot.scatter(x='# of Estimators', \\\n",
        "                         y='F1', \\\n",
        "                         title='Random Forest Classifier')\n",
        "df_tuned_RF.sort_values(by='F1', ascending=False).head()"
      ],
      "execution_count": 12,
      "outputs": [
        {
          "output_type": "execute_result",
          "data": {
            "text/html": [
              "<div>\n",
              "<style scoped>\n",
              "    .dataframe tbody tr th:only-of-type {\n",
              "        vertical-align: middle;\n",
              "    }\n",
              "\n",
              "    .dataframe tbody tr th {\n",
              "        vertical-align: top;\n",
              "    }\n",
              "\n",
              "    .dataframe thead th {\n",
              "        text-align: right;\n",
              "    }\n",
              "</style>\n",
              "<table border=\"1\" class=\"dataframe\">\n",
              "  <thead>\n",
              "    <tr style=\"text-align: right;\">\n",
              "      <th></th>\n",
              "      <th># of Estimators</th>\n",
              "      <th>F1</th>\n",
              "    </tr>\n",
              "  </thead>\n",
              "  <tbody>\n",
              "    <tr>\n",
              "      <th>37</th>\n",
              "      <td>38</td>\n",
              "      <td>0.953364</td>\n",
              "    </tr>\n",
              "    <tr>\n",
              "      <th>43</th>\n",
              "      <td>44</td>\n",
              "      <td>0.947633</td>\n",
              "    </tr>\n",
              "    <tr>\n",
              "      <th>45</th>\n",
              "      <td>46</td>\n",
              "      <td>0.945093</td>\n",
              "    </tr>\n",
              "    <tr>\n",
              "      <th>35</th>\n",
              "      <td>36</td>\n",
              "      <td>0.942312</td>\n",
              "    </tr>\n",
              "    <tr>\n",
              "      <th>42</th>\n",
              "      <td>43</td>\n",
              "      <td>0.942201</td>\n",
              "    </tr>\n",
              "  </tbody>\n",
              "</table>\n",
              "</div>"
            ],
            "text/plain": [
              "    # of Estimators        F1\n",
              "37               38  0.953364\n",
              "43               44  0.947633\n",
              "45               46  0.945093\n",
              "35               36  0.942312\n",
              "42               43  0.942201"
            ]
          },
          "metadata": {
            "tags": []
          },
          "execution_count": 12
        },
        {
          "output_type": "display_data",
          "data": {
            "image/png": "[encoded data removed]",
            "text/plain": [
              "<Figure size 432x288 with 1 Axes>"
            ]
          },
          "metadata": {
            "tags": []
          }
        }
      ]
    },
    {
      "cell_type": "markdown",
      "metadata": {
        "id": "cA-tsPPLXfZS",
        "colab_type": "text"
      },
      "source": [
        "K Neighbors and Random Forest were easy to vary the hyperparameters. However, the other 3 models yielded strange results when varying some of the parameters. "
      ]
    },
    {
      "cell_type": "code",
      "metadata": {
        "id": "UWW_ge3yP7MQ",
        "colab_type": "code",
        "outputId": "4148d137-683a-4b2f-d979-ffc13ab8cbdb",
        "colab": {
          "base_uri": "https://localhost:8080/",
          "height": 482
        }
      },
      "source": [
        "tests = {\n",
        "    \"C Value\" : [],\n",
        "    \"F1\":[],\n",
        "}\n",
        "\n",
        "for c_val in range(1, 50):\n",
        "  pipeline = make_pipeline(\n",
        "      ct,\n",
        "      PassiveAggressiveClassifier(C=c_val)\n",
        "  ) \n",
        "  f1 =  cross_val_score(pipeline, X=X_train, y=y_train,\n",
        "                             scoring=\"f1_macro\", cv=10).mean()\n",
        "  tests['C Value'].append(c_val)\n",
        "  tests['F1'].append(f1)\n",
        "    \n",
        "df_tuned_PA = pd.DataFrame(tests)\n",
        "df_tuned_PA.plot.scatter(x='C Value', \\\n",
        "                         y='F1', \\\n",
        "                         title='Passive Aggressive Classifier')\n",
        "df_tuned_PA.sort_values(by='F1', ascending=False).head()"
      ],
      "execution_count": 13,
      "outputs": [
        {
          "output_type": "execute_result",
          "data": {
            "text/html": [
              "<div>\n",
              "<style scoped>\n",
              "    .dataframe tbody tr th:only-of-type {\n",
              "        vertical-align: middle;\n",
              "    }\n",
              "\n",
              "    .dataframe tbody tr th {\n",
              "        vertical-align: top;\n",
              "    }\n",
              "\n",
              "    .dataframe thead th {\n",
              "        text-align: right;\n",
              "    }\n",
              "</style>\n",
              "<table border=\"1\" class=\"dataframe\">\n",
              "  <thead>\n",
              "    <tr style=\"text-align: right;\">\n",
              "      <th></th>\n",
              "      <th>C Value</th>\n",
              "      <th>F1</th>\n",
              "    </tr>\n",
              "  </thead>\n",
              "  <tbody>\n",
              "    <tr>\n",
              "      <th>29</th>\n",
              "      <td>30</td>\n",
              "      <td>0.972558</td>\n",
              "    </tr>\n",
              "    <tr>\n",
              "      <th>28</th>\n",
              "      <td>29</td>\n",
              "      <td>0.969857</td>\n",
              "    </tr>\n",
              "    <tr>\n",
              "      <th>42</th>\n",
              "      <td>43</td>\n",
              "      <td>0.969848</td>\n",
              "    </tr>\n",
              "    <tr>\n",
              "      <th>12</th>\n",
              "      <td>13</td>\n",
              "      <td>0.969836</td>\n",
              "    </tr>\n",
              "    <tr>\n",
              "      <th>25</th>\n",
              "      <td>26</td>\n",
              "      <td>0.969783</td>\n",
              "    </tr>\n",
              "  </tbody>\n",
              "</table>\n",
              "</div>"
            ],
            "text/plain": [
              "    C Value        F1\n",
              "29       30  0.972558\n",
              "28       29  0.969857\n",
              "42       43  0.969848\n",
              "12       13  0.969836\n",
              "25       26  0.969783"
            ]
          },
          "metadata": {
            "tags": []
          },
          "execution_count": 13
        },
        {
          "output_type": "display_data",
          "data": {
            "image/png": "[encoded data removed]",
            "text/plain": [
              "<Figure size 432x288 with 1 Axes>"
            ]
          },
          "metadata": {
            "tags": []
          }
        }
      ]
    },
    {
      "cell_type": "code",
      "metadata": {
        "id": "PgLMI3tzC4TV",
        "colab_type": "code",
        "outputId": "c059cc22-97e4-41ef-a86f-7fb18467f45d",
        "colab": {
          "base_uri": "https://localhost:8080/",
          "height": 482
        }
      },
      "source": [
        "tests = {\n",
        "    \"C Value\" : [],\n",
        "    \"F1\":[],\n",
        "}\n",
        "\n",
        "for c_val in range(1, 50):\n",
        "  pipeline = make_pipeline(\n",
        "      ct,\n",
        "      LinearSVC(C=c_val, dual=False)\n",
        "  ) \n",
        "  f1 = cross_val_score(pipeline, X=X_train, y=y_train,\n",
        "                             scoring=\"f1_macro\", cv=10).mean()\n",
        "  tests['C Value'].append(c_val)\n",
        "  tests['F1'].append(f1)\n",
        "    \n",
        "df_tuned_SVC = pd.DataFrame(tests)\n",
        "df_tuned_SVC.plot.scatter(x='C Value', \\\n",
        "                         y='F1', \\\n",
        "                         title='Linear SVC Classifier')\n",
        "df_tuned_SVC.sort_values(by='F1', ascending=False).head()"
      ],
      "execution_count": 14,
      "outputs": [
        {
          "output_type": "execute_result",
          "data": {
            "text/html": [
              "<div>\n",
              "<style scoped>\n",
              "    .dataframe tbody tr th:only-of-type {\n",
              "        vertical-align: middle;\n",
              "    }\n",
              "\n",
              "    .dataframe tbody tr th {\n",
              "        vertical-align: top;\n",
              "    }\n",
              "\n",
              "    .dataframe thead th {\n",
              "        text-align: right;\n",
              "    }\n",
              "</style>\n",
              "<table border=\"1\" class=\"dataframe\">\n",
              "  <thead>\n",
              "    <tr style=\"text-align: right;\">\n",
              "      <th></th>\n",
              "      <th>C Value</th>\n",
              "      <th>F1</th>\n",
              "    </tr>\n",
              "  </thead>\n",
              "  <tbody>\n",
              "    <tr>\n",
              "      <th>0</th>\n",
              "      <td>1</td>\n",
              "      <td>0.928917</td>\n",
              "    </tr>\n",
              "    <tr>\n",
              "      <th>18</th>\n",
              "      <td>19</td>\n",
              "      <td>0.928917</td>\n",
              "    </tr>\n",
              "    <tr>\n",
              "      <th>32</th>\n",
              "      <td>33</td>\n",
              "      <td>0.928917</td>\n",
              "    </tr>\n",
              "    <tr>\n",
              "      <th>31</th>\n",
              "      <td>32</td>\n",
              "      <td>0.928917</td>\n",
              "    </tr>\n",
              "    <tr>\n",
              "      <th>35</th>\n",
              "      <td>36</td>\n",
              "      <td>0.928917</td>\n",
              "    </tr>\n",
              "  </tbody>\n",
              "</table>\n",
              "</div>"
            ],
            "text/plain": [
              "    C Value        F1\n",
              "0         1  0.928917\n",
              "18       19  0.928917\n",
              "32       33  0.928917\n",
              "31       32  0.928917\n",
              "35       36  0.928917"
            ]
          },
          "metadata": {
            "tags": []
          },
          "execution_count": 14
        },
        {
          "output_type": "display_data",
          "data": {
            "image/png": "[encoded data removed]",
            "text/plain": [
              "<Figure size 432x288 with 1 Axes>"
            ]
          },
          "metadata": {
            "tags": []
          }
        }
      ]
    },
    {
      "cell_type": "code",
      "metadata": {
        "id": "9rETr5oXRfbX",
        "colab_type": "code",
        "outputId": "7c56215b-5a6e-4843-c936-e4f2017abe6f",
        "colab": {
          "base_uri": "https://localhost:8080/",
          "height": 482
        }
      },
      "source": [
        "tests = {\n",
        "    \"Value\" : [],\n",
        "    \"F1\":[],\n",
        "}\n",
        "\n",
        "for c_val in range(1, 50):\n",
        "  pipeline = make_pipeline(\n",
        "      ct,\n",
        "      LogisticRegression(C=c_val)\n",
        "  ) \n",
        "  f1 = cross_val_score(pipeline, X=X_train, y=y_train,\n",
        "                             scoring=\"f1_macro\", cv=10).mean()\n",
        "  tests['Value'].append(c_val)\n",
        "  tests['F1'].append(f1)\n",
        "    \n",
        "df_tuned_LR = pd.DataFrame(tests)\n",
        "df_tuned_LR.plot.scatter(x='Value', \\\n",
        "                         y='F1', \\\n",
        "                         title='Logistic Regression Classifier')\n",
        "df_tuned_LR.sort_values(by='F1', ascending=False).head()"
      ],
      "execution_count": 15,
      "outputs": [
        {
          "output_type": "execute_result",
          "data": {
            "text/html": [
              "<div>\n",
              "<style scoped>\n",
              "    .dataframe tbody tr th:only-of-type {\n",
              "        vertical-align: middle;\n",
              "    }\n",
              "\n",
              "    .dataframe tbody tr th {\n",
              "        vertical-align: top;\n",
              "    }\n",
              "\n",
              "    .dataframe thead th {\n",
              "        text-align: right;\n",
              "    }\n",
              "</style>\n",
              "<table border=\"1\" class=\"dataframe\">\n",
              "  <thead>\n",
              "    <tr style=\"text-align: right;\">\n",
              "      <th></th>\n",
              "      <th>Value</th>\n",
              "      <th>F1</th>\n",
              "    </tr>\n",
              "  </thead>\n",
              "  <tbody>\n",
              "    <tr>\n",
              "      <th>0</th>\n",
              "      <td>1</td>\n",
              "      <td>0.956017</td>\n",
              "    </tr>\n",
              "    <tr>\n",
              "      <th>25</th>\n",
              "      <td>26</td>\n",
              "      <td>0.956017</td>\n",
              "    </tr>\n",
              "    <tr>\n",
              "      <th>27</th>\n",
              "      <td>28</td>\n",
              "      <td>0.956017</td>\n",
              "    </tr>\n",
              "    <tr>\n",
              "      <th>28</th>\n",
              "      <td>29</td>\n",
              "      <td>0.956017</td>\n",
              "    </tr>\n",
              "    <tr>\n",
              "      <th>29</th>\n",
              "      <td>30</td>\n",
              "      <td>0.956017</td>\n",
              "    </tr>\n",
              "  </tbody>\n",
              "</table>\n",
              "</div>"
            ],
            "text/plain": [
              "    Value        F1\n",
              "0       1  0.956017\n",
              "25     26  0.956017\n",
              "27     28  0.956017\n",
              "28     29  0.956017\n",
              "29     30  0.956017"
            ]
          },
          "metadata": {
            "tags": []
          },
          "execution_count": 15
        },
        {
          "output_type": "display_data",
          "data": {
            "image/png": "[encoded data removed]",
            "text/plain": [
              "<Figure size 432x288 with 1 Axes>"
            ]
          },
          "metadata": {
            "tags": []
          }
        }
      ]
    },
    {
      "cell_type": "markdown",
      "metadata": {
        "id": "Fh_VcgCMXrrp",
        "colab_type": "text"
      },
      "source": [
        "# Results: Optimal Hyperparameters\n",
        "\n",
        "* K-Neighbors Classifier\n",
        "> Optimal K-Neighbors - 2\n",
        "* Passive Aggressive Classifier\n",
        "> Optimal C Value (Varies with each run) - 30\n",
        "* Random Forest Classifier\n",
        "> Optimal N Estimators (Varies with each run) - 38\n",
        "* Linear SVC Classifier\n",
        "> Optimal C Value (F1 only had two results) - 1\n",
        "* Logistic Regression Classifier\n",
        "> Optimal C Value (F1 did not change) - 1"
      ]
    },
    {
      "cell_type": "markdown",
      "metadata": {
        "id": "Z2UBaZdBjtgD",
        "colab_type": "text"
      },
      "source": [
        "## Rerun the scores with the newly determined optimal hyperparameters"
      ]
    },
    {
      "cell_type": "code",
      "metadata": {
        "id": "uOFCk2KAg7yt",
        "colab_type": "code",
        "colab": {}
      },
      "source": [
        "opt_results_dict = {\"Model\" : [], \"Accuracy\" : [], \n",
        "                \"Precision (Real)\" : [], \"Precision (Fake)\" : [],\n",
        "                \"Recall (Real)\" : [], \"Recall (Fake)\" : [],\n",
        "                \"F1 (Real)\" : [], \"F1 (Fake)\" : []}\n",
        "\n",
        "classifiers_list = [\n",
        "     KNeighborsClassifier(n_neighbors=2),  \n",
        "     PassiveAggressiveClassifier(C=30),\n",
        "     RandomForestClassifier(n_estimators=38),\n",
        "     LinearSVC(C=1, dual=False),\n",
        "     LogisticRegression(C=1)\n",
        "]\n",
        "\n",
        "models = [\n",
        "     'KNeighbors',\n",
        "     'PassiveAggressive',\n",
        "     'RandomForest',\n",
        "     'LinearSVC',\n",
        "     'LogisticRegression'\n",
        "]\n",
        "\n",
        "j = 0\n",
        "for classifier in classifiers_list:\n",
        "  pipeline = make_pipeline(\n",
        "    ct,\n",
        "    classifier\n",
        "  )\n",
        "\n",
        "  opt_results_dict['Model'].append(models[j])\n",
        "  opt_results_dict['Accuracy'].append(cross_val_score(pipeline, X_train, y_train, \n",
        "                            cv=10, scoring=\"accuracy\").mean())\n",
        "  opt_results_dict['Precision (Real)'].append(cross_val_score(pipeline, X_train, real, \n",
        "                            cv=10, scoring=\"precision\").mean())\n",
        "  opt_results_dict['Precision (Fake)'].append(cross_val_score(pipeline, X_train, fake, \n",
        "                            cv=10, scoring=\"precision\").mean())\n",
        "  opt_results_dict['Recall (Real)'].append(cross_val_score(pipeline, X_train, real, \n",
        "                            cv=10, scoring=\"recall\").mean())\n",
        "  opt_results_dict['Recall (Fake)'].append(cross_val_score(pipeline, X_train, fake, \n",
        "                            cv=10, scoring=\"recall\").mean())\n",
        "  opt_results_dict['F1 (Real)'].append(cross_val_score(pipeline, X_train, real, \n",
        "                            cv=10, scoring=\"f1\").mean())\n",
        "  opt_results_dict['F1 (Fake)'].append(cross_val_score(pipeline, X_train, fake, \n",
        "                            cv=10, scoring=\"f1\").mean())\n",
        "  j = j + 1"
      ],
      "execution_count": 0,
      "outputs": []
    },
    {
      "cell_type": "markdown",
      "metadata": {
        "id": "ppetyzBFIUmX",
        "colab_type": "text"
      },
      "source": [
        "# Analysis of Results to Determine the Optimal Model (Now with Tuned Hyperparameters)\n",
        "\n",
        "Given the optimal set of features and hyperparameters, we can again select which model would be the best for determining if our news are fake or real. This was achieved by observing which model had the highest test metric scores for Accuracy, Precision, Recall, and F1."
      ]
    },
    {
      "cell_type": "code",
      "metadata": {
        "id": "RZmP2Zooi7dj",
        "colab_type": "code",
        "outputId": "9fd1c699-2b2f-431e-b0fc-6a3868a16cec",
        "colab": {
          "base_uri": "https://localhost:8080/",
          "height": 252
        }
      },
      "source": [
        "df_best_overall = pd.DataFrame(opt_results_dict)\n",
        "df_best_overall.set_index('Model', inplace=True)\n",
        "df_best_overall"
      ],
      "execution_count": 17,
      "outputs": [
        {
          "output_type": "execute_result",
          "data": {
            "text/html": [
              "<div>\n",
              "<style scoped>\n",
              "    .dataframe tbody tr th:only-of-type {\n",
              "        vertical-align: middle;\n",
              "    }\n",
              "\n",
              "    .dataframe tbody tr th {\n",
              "        vertical-align: top;\n",
              "    }\n",
              "\n",
              "    .dataframe thead th {\n",
              "        text-align: right;\n",
              "    }\n",
              "</style>\n",
              "<table border=\"1\" class=\"dataframe\">\n",
              "  <thead>\n",
              "    <tr style=\"text-align: right;\">\n",
              "      <th></th>\n",
              "      <th>Accuracy</th>\n",
              "      <th>Precision (Real)</th>\n",
              "      <th>Precision (Fake)</th>\n",
              "      <th>Recall (Real)</th>\n",
              "      <th>Recall (Fake)</th>\n",
              "      <th>F1 (Real)</th>\n",
              "      <th>F1 (Fake)</th>\n",
              "    </tr>\n",
              "    <tr>\n",
              "      <th>Model</th>\n",
              "      <th></th>\n",
              "      <th></th>\n",
              "      <th></th>\n",
              "      <th></th>\n",
              "      <th></th>\n",
              "      <th></th>\n",
              "      <th></th>\n",
              "    </tr>\n",
              "  </thead>\n",
              "  <tbody>\n",
              "    <tr>\n",
              "      <th>KNeighbors</th>\n",
              "      <td>0.849925</td>\n",
              "      <td>1.000000</td>\n",
              "      <td>0.770023</td>\n",
              "      <td>0.438158</td>\n",
              "      <td>0.988235</td>\n",
              "      <td>0.604979</td>\n",
              "      <td>0.862872</td>\n",
              "    </tr>\n",
              "    <tr>\n",
              "      <th>PassiveAggressive</th>\n",
              "      <td>0.964414</td>\n",
              "      <td>0.984474</td>\n",
              "      <td>0.939697</td>\n",
              "      <td>0.943421</td>\n",
              "      <td>0.982353</td>\n",
              "      <td>0.970532</td>\n",
              "      <td>0.963152</td>\n",
              "    </tr>\n",
              "    <tr>\n",
              "      <th>RandomForest</th>\n",
              "      <td>0.939865</td>\n",
              "      <td>0.995238</td>\n",
              "      <td>0.891779</td>\n",
              "      <td>0.891316</td>\n",
              "      <td>0.994118</td>\n",
              "      <td>0.929391</td>\n",
              "      <td>0.945968</td>\n",
              "    </tr>\n",
              "    <tr>\n",
              "      <th>LinearSVC</th>\n",
              "      <td>0.929054</td>\n",
              "      <td>1.000000</td>\n",
              "      <td>0.870326</td>\n",
              "      <td>0.861842</td>\n",
              "      <td>1.000000</td>\n",
              "      <td>0.924906</td>\n",
              "      <td>0.930083</td>\n",
              "    </tr>\n",
              "    <tr>\n",
              "      <th>LogisticRegression</th>\n",
              "      <td>0.956156</td>\n",
              "      <td>1.000000</td>\n",
              "      <td>0.918442</td>\n",
              "      <td>0.917368</td>\n",
              "      <td>1.000000</td>\n",
              "      <td>0.955515</td>\n",
              "      <td>0.956520</td>\n",
              "    </tr>\n",
              "  </tbody>\n",
              "</table>\n",
              "</div>"
            ],
            "text/plain": [
              "                    Accuracy  Precision (Real)  ...  F1 (Real)  F1 (Fake)\n",
              "Model                                           ...                      \n",
              "KNeighbors          0.849925          1.000000  ...   0.604979   0.862872\n",
              "PassiveAggressive   0.964414          0.984474  ...   0.970532   0.963152\n",
              "RandomForest        0.939865          0.995238  ...   0.929391   0.945968\n",
              "LinearSVC           0.929054          1.000000  ...   0.924906   0.930083\n",
              "LogisticRegression  0.956156          1.000000  ...   0.955515   0.956520\n",
              "\n",
              "[5 rows x 7 columns]"
            ]
          },
          "metadata": {
            "tags": []
          },
          "execution_count": 17
        }
      ]
    },
    {
      "cell_type": "code",
      "metadata": {
        "id": "de1Ho6ZhjDKu",
        "colab_type": "code",
        "outputId": "650c7548-926c-4d99-d276-68fc82a7f979",
        "colab": {
          "base_uri": "https://localhost:8080/",
          "height": 136
        }
      },
      "source": [
        "print(\"Best model for Accuracy: \" + df_best_overall['Accuracy'].idxmax())\n",
        "print(\"Best model for Precision (Real): \" + df_best_overall['Precision (Real)'].idxmax())\n",
        "print(\"Best model for Precision (Fake): \" + df_best_overall['Precision (Fake)'].idxmax())\n",
        "print(\"Best model for Recall (Real): \" + df_best_overall['Recall (Real)'].idxmax())\n",
        "print(\"Best model for Recall (Fake): \" + df_best_overall['Recall (Fake)'].idxmax())\n",
        "print(\"Best model for F1 (Real): \" + df_best_overall['F1 (Real)'].idxmax())\n",
        "print(\"Best model for F1 (Fake): \" + df_best_overall['F1 (Fake)'].idxmax())"
      ],
      "execution_count": 19,
      "outputs": [
        {
          "output_type": "stream",
          "text": [
            "Best model for Accuracy: PassiveAggressive\n",
            "Best model for Precision (Real): KNeighbors\n",
            "Best model for Precision (Fake): PassiveAggressive\n",
            "Best model for Recall (Real): PassiveAggressive\n",
            "Best model for Recall (Fake): LinearSVC\n",
            "Best model for F1 (Real): PassiveAggressive\n",
            "Best model for F1 (Fake): PassiveAggressive\n"
          ],
          "name": "stdout"
        }
      ]
    },
    {
      "cell_type": "code",
      "metadata": {
        "id": "OXdgCdQUfbNx",
        "colab_type": "code",
        "colab": {}
      },
      "source": [
        "from google.colab import files\n",
        "\n",
        "df_best_overall.to_csv('df_best_overall.csv')\n",
        "files.download('df_best_overall.csv')"
      ],
      "execution_count": 0,
      "outputs": []
    },
    {
      "cell_type": "markdown",
      "metadata": {
        "id": "EtA-AeN8jOhv",
        "colab_type": "text"
      },
      "source": [
        "# **Machine Learning Conclusion**\n",
        "\n",
        "From these results, we can observe that using all the features of the article, (title, title length, content, and content length) yields the best test metric scores for our models. We can also see that the Passive Agressive Classifier Model is again determined to be the best classifier for fake news detection, even after we have tuned our hyperparameters."
      ]
    }
  ]
}